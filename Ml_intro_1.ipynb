{
 "cells": [
  {
   "cell_type": "code",
   "execution_count": null,
   "id": "889442ae",
   "metadata": {},
   "outputs": [],
   "source": [
    "Q1 Explain the following with an Example:\n",
    "a) Artificial Intelligence,\n",
    "b) Machine Learning,\n",
    "c) Deep Learning."
   ]
  },
  {
   "cell_type": "code",
   "execution_count": null,
   "id": "57eda65d",
   "metadata": {},
   "outputs": [],
   "source": [
    "A. Artificial intelligence:\n",
    "    artificial intelligence is an effective tool that enable machine to learn from there experiance and adopt new circumstance \n",
    "    and perform the task just like human. it perform the task with out human interaction.\n",
    "    \n",
    "B. machine learning:\n",
    "    Machine learning is a subfield of artificial intelligence focused on training machine learning algorithms with data sets\n",
    "    to produce machine learning models capable of performing complex tasks, such as sorting images, forecasting sales, or \n",
    "    analyzing big data.\n",
    "    it provide the statstool to analyze, visualize, predicting models, forcasting.\n",
    "    \n",
    "C. Deep learning:\n",
    "    Deep learning is a subfield of machine learning.\n",
    "    deep learning is a machine learning technique that layers algorithm and computing units or we can say nurons into the \n",
    "    artificial nural networks that mimic the human brain."
   ]
  },
  {
   "cell_type": "code",
   "execution_count": null,
   "id": "262796f7",
   "metadata": {},
   "outputs": [],
   "source": [
    "Q2- What is supervised learning? List some example of supervised learning."
   ]
  },
  {
   "cell_type": "code",
   "execution_count": null,
   "id": "ae3404f8",
   "metadata": {},
   "outputs": [],
   "source": [
    "Supervised learning, also known as supervised machine learning, is defined by its use of labeled datasets to train algorithms\n",
    "to classify data or predict outcomes accurately.\n",
    "In supervised learning, the training data provided to the machines work as the supervisor that teaches the machines to predict\n",
    "the output correctly.\n",
    "\n",
    "Example :\n",
    "    Risk Assessment, \n",
    "    Image classification, \n",
    "    Fraud Detection, \n",
    "    spam filtering, "
   ]
  },
  {
   "cell_type": "code",
   "execution_count": null,
   "id": "fa471319",
   "metadata": {},
   "outputs": [],
   "source": [
    "Q3- What is unsupervised learning? List some examples of unsupervised learning."
   ]
  },
  {
   "cell_type": "code",
   "execution_count": null,
   "id": "51db25f6",
   "metadata": {},
   "outputs": [],
   "source": [
    "Unsupervised learning:\n",
    "    Unsupervised learning is a type of machine learning in which models are trained using unlabeled dataset and are allowed to \n",
    "    act on that data without any supervision.\n",
    "    There may be many cases in which we do not have labeled data and need to find the hidden patterns from the given dataset \n",
    "    then we can use unsupervised machine learning.\n",
    "    \n",
    "Example:\n",
    "    recommendation engine,\n",
    "    image detection,\n",
    "    find the similar document,\n",
    "    search optimization clustering    "
   ]
  },
  {
   "cell_type": "code",
   "execution_count": null,
   "id": "80581ac5",
   "metadata": {},
   "outputs": [],
   "source": [
    "Q4- What is the difference between AI, ML, DL, and DS?"
   ]
  },
  {
   "cell_type": "code",
   "execution_count": null,
   "id": "bf6fdd84",
   "metadata": {},
   "outputs": [],
   "source": [
    "AI is a large system we can say, AI is a parent of ml,dl. \n",
    "ML is a sub field of ai \n",
    "Dl is a sub field of ml \n",
    "ds is a field where we have the knowledge of ai, ml, dl."
   ]
  },
  {
   "cell_type": "code",
   "execution_count": null,
   "id": "abaade47",
   "metadata": {},
   "outputs": [],
   "source": [
    "Q5- What are the main differences between supervised, unsupervised, and semi-supervised learning?"
   ]
  },
  {
   "cell_type": "code",
   "execution_count": null,
   "id": "8d8ae94f",
   "metadata": {},
   "outputs": [],
   "source": [
    "supervised :\n",
    "    here we have lable data or we can say we know output data.\n",
    "unsupervised :\n",
    "    here we dont know the output data.here we have to find pattern in our data.\n",
    "semi supervised :\n",
    "    in semi supervised we use both supervised and unsupervised technique"
   ]
  },
  {
   "cell_type": "code",
   "execution_count": null,
   "id": "22a92917",
   "metadata": {},
   "outputs": [],
   "source": [
    "Q6- What is train, test and validation split? Explain the importance of each term."
   ]
  },
  {
   "cell_type": "code",
   "execution_count": null,
   "id": "c98ae007",
   "metadata": {},
   "outputs": [],
   "source": [
    "train:\n",
    "    we divide our data into three part: train, test, validation \n",
    "    train data are used to train the model.\n",
    "    \n",
    "test:\n",
    "    after train the mode we have to check the accuracy of the model. model is accepted or not \n",
    "    for that purpose we use test data ti test our model, this data is diff from the training data\n",
    "    so we will find the accuracy of the model.\n",
    "    \n",
    "validation:\n",
    "    validation data set is used for hypertuning of the model.\n",
    "    The model only sees this data for evaluation but does not learn from this data, providing an objective unbiased \n",
    "    evaluation of the model."
   ]
  },
  {
   "cell_type": "code",
   "execution_count": null,
   "id": "43f204ba",
   "metadata": {},
   "outputs": [],
   "source": [
    "Q7- How can unsupervised learning be used in anomaly detection?"
   ]
  },
  {
   "cell_type": "code",
   "execution_count": null,
   "id": "bac99595",
   "metadata": {},
   "outputs": [],
   "source": [
    "unsupervised learning do not need label data, they are able to find pattern in data similarity in the data.\n",
    "anomaly detection means detect outliers,outliers are the data which is different from the remaining data.\n",
    "unsupervised learning is good in finding outliers because it is able to find the pattern so it is easy to find the \n",
    "data which is differnet from other data.\n",
    "thats why i think unsupervised learning is used for anomaly detection.\n"
   ]
  },
  {
   "cell_type": "code",
   "execution_count": null,
   "id": "80f13b61",
   "metadata": {},
   "outputs": [],
   "source": [
    "Q8- List down somw commonly used supervised learning algorithms and unsupervised learning algorithms."
   ]
  },
  {
   "cell_type": "code",
   "execution_count": null,
   "id": "c5730aed",
   "metadata": {},
   "outputs": [],
   "source": [
    "supervised learning algorithm :\n",
    "    \n",
    "    regression:\n",
    "        Linear Regression\n",
    "        Regression Trees\n",
    "        Non-Linear Regression\n",
    "        Bayesian Linear Regression\n",
    "        Polynomial Regression\n",
    "        \n",
    "    classification:\n",
    "        Random Forest\n",
    "        Decision Trees\n",
    "        Logistic Regression\n",
    "        Support vector Machines\n",
    "\n",
    "\n",
    "unsupervised learning algorithm:\n",
    "    \n",
    "    clustering:\n",
    "        K-means clustering\n",
    "        KNN (k-nearest neighbors)\n",
    "        Hierarchal clustering\n",
    "        Anomaly detection\n",
    "        Neural Networks\n",
    "        Principle Component Analysis\n",
    "        Independent Component Analysis\n",
    "        Singular value decomposition\n",
    "        \n",
    "    association:\n",
    "        \n",
    "        Market bascket analysis\n",
    "        Apriori algorithm\n",
    "    "
   ]
  }
 ],
 "metadata": {
  "kernelspec": {
   "display_name": "Python 3 (ipykernel)",
   "language": "python",
   "name": "python3"
  },
  "language_info": {
   "codemirror_mode": {
    "name": "ipython",
    "version": 3
   },
   "file_extension": ".py",
   "mimetype": "text/x-python",
   "name": "python",
   "nbconvert_exporter": "python",
   "pygments_lexer": "ipython3",
   "version": "3.9.7"
  }
 },
 "nbformat": 4,
 "nbformat_minor": 5
}
